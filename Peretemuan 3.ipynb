{
  "nbformat": 4,
  "nbformat_minor": 0,
  "metadata": {
    "colab": {
      "provenance": []
    },
    "kernelspec": {
      "name": "python3",
      "display_name": "Python 3"
    },
    "language_info": {
      "name": "python"
    }
  },
  "cells": [
    {
      "cell_type": "markdown",
      "source": [
        "**1.String indeks**"
      ],
      "metadata": {
        "id": "wom0N2t7eG-W"
      }
    },
    {
      "cell_type": "code",
      "execution_count": null,
      "metadata": {
        "colab": {
          "base_uri": "https://localhost:8080/"
        },
        "id": "3iBlC3dTc8-C",
        "outputId": "2bd4d1ae-bd29-4f9f-8808-0259ae5658b1"
      },
      "outputs": [
        {
          "output_type": "stream",
          "name": "stdout",
          "text": [
            "I Komang Triatmaja Putra\n"
          ]
        }
      ],
      "source": [
        "Nama = 'I Komang Triatmaja Putra'\n",
        "print(Nama[0:25])\n",
        "#percobaan string yang diurutkan dengan index yang dimulai dari 0\n"
      ]
    },
    {
      "cell_type": "code",
      "source": [
        "print(Nama[0])\n",
        "#mencetak satu data pada urutan data yang diinginkan "
      ],
      "metadata": {
        "colab": {
          "base_uri": "https://localhost:8080/"
        },
        "id": "1fHE53n3jOIi",
        "outputId": "c4250229-bade-4b58-9044-ee698066e068"
      },
      "execution_count": null,
      "outputs": [
        {
          "output_type": "stream",
          "name": "stdout",
          "text": [
            "I\n"
          ]
        }
      ]
    },
    {
      "cell_type": "code",
      "source": [
        "print(Nama[0:-1:3])\n",
        "#percobaan mencetak data yang dimulai dari 0, sampai dengan terakhir atau -1 dengan meloncati 3 harus dari suatu data"
      ],
      "metadata": {
        "colab": {
          "base_uri": "https://localhost:8080/"
        },
        "id": "EL2zPjCHkyrB",
        "outputId": "5b6e5347-12a7-4115-a285-b1013e1c024f"
      },
      "execution_count": null,
      "outputs": [
        {
          "output_type": "stream",
          "name": "stdout",
          "text": [
            "IonTaa t\n"
          ]
        }
      ]
    },
    {
      "cell_type": "markdown",
      "source": [
        "**2.String methods**"
      ],
      "metadata": {
        "id": "BOE-VvFwejA7"
      }
    },
    {
      "cell_type": "code",
      "source": [
        "TEMA = 'Bali Seribu Pura'\n",
        "print(len(TEMA))\n",
        "#percobaan strings methods pada variabel berjenis string"
      ],
      "metadata": {
        "colab": {
          "base_uri": "https://localhost:8080/"
        },
        "id": "19-VHFxPpmpw",
        "outputId": "afd4d61c-259b-4778-a632-b6d712b2f18b"
      },
      "execution_count": null,
      "outputs": [
        {
          "output_type": "stream",
          "name": "stdout",
          "text": [
            "16\n"
          ]
        }
      ]
    },
    {
      "cell_type": "code",
      "source": [
        "TEMA.upper()\n",
        "#percobaan string method untuk merubah ke huruf  besar atau upper"
      ],
      "metadata": {
        "colab": {
          "base_uri": "https://localhost:8080/",
          "height": 35
        },
        "id": "v1ljVVtdp1Jf",
        "outputId": "bc32a641-f9cb-4a11-cfe5-4224a27c6eb1"
      },
      "execution_count": null,
      "outputs": [
        {
          "output_type": "execute_result",
          "data": {
            "text/plain": [
              "'BALI SERIBU PURA'"
            ],
            "application/vnd.google.colaboratory.intrinsic+json": {
              "type": "string"
            }
          },
          "metadata": {},
          "execution_count": 25
        }
      ]
    },
    {
      "cell_type": "code",
      "source": [
        "TEMA.lower()\n",
        "#percobaan ini hampir sama dengan percobaan yang diatas akan tetapi percobaan ini untuk merubah suatau kalimat huruf kecil atau lower"
      ],
      "metadata": {
        "colab": {
          "base_uri": "https://localhost:8080/",
          "height": 35
        },
        "id": "_cG2s9Hjp-5e",
        "outputId": "4d392919-7d6e-4629-cbd0-9f172b7d3c93"
      },
      "execution_count": null,
      "outputs": [
        {
          "output_type": "execute_result",
          "data": {
            "text/plain": [
              "'bali seribu pura'"
            ],
            "application/vnd.google.colaboratory.intrinsic+json": {
              "type": "string"
            }
          },
          "metadata": {},
          "execution_count": 29
        }
      ]
    },
    {
      "cell_type": "code",
      "source": [
        "TEMA.replace('Bali Seribu Pura','Indonesia Seribu Pulau')\n",
        "#percobaan untuk mengganti suatu tema ke tema yang lain sesuai dengan yang kita inginkan"
      ],
      "metadata": {
        "colab": {
          "base_uri": "https://localhost:8080/",
          "height": 35
        },
        "id": "cAEdC4OhwF57",
        "outputId": "14420072-33ca-4db3-d762-c01f7aa4fcfa"
      },
      "execution_count": null,
      "outputs": [
        {
          "output_type": "execute_result",
          "data": {
            "text/plain": [
              "'Indonesia Seribu Pulau'"
            ],
            "application/vnd.google.colaboratory.intrinsic+json": {
              "type": "string"
            }
          },
          "metadata": {},
          "execution_count": 31
        }
      ]
    },
    {
      "cell_type": "markdown",
      "source": [
        "**3. Operasi matematika di phyton**"
      ],
      "metadata": {
        "id": "9W0H6favec8q"
      }
    },
    {
      "cell_type": "code",
      "source": [
        "X = input('Nilai x adalah ')\n",
        "Y = input('Nilai y adalah')\n",
        "print(int(X) + int(Y))\n",
        "#operasi penjumlahan, atau contoh operasi matematika pada phyton"
      ],
      "metadata": {
        "colab": {
          "base_uri": "https://localhost:8080/"
        },
        "id": "f9sULp6xW03X",
        "outputId": "58aca40b-22e3-4849-c66d-88e4cc2aeda7"
      },
      "execution_count": 5,
      "outputs": [
        {
          "output_type": "stream",
          "name": "stdout",
          "text": [
            "Nilai x adalah 4\n",
            "Nilai y adalah6\n",
            "10\n"
          ]
        }
      ]
    },
    {
      "cell_type": "code",
      "source": [
        "X = input('nilai x adalah')\n",
        "Y = input('nilai y adalah')\n",
        "print(int(X)**int(Y))\n",
        "#percobaan operasi perpangkatan matematika dalam phyton"
      ],
      "metadata": {
        "colab": {
          "base_uri": "https://localhost:8080/"
        },
        "id": "cAfL8zUkXlFi",
        "outputId": "5cb70491-aac4-4fb8-878b-74a02a1f5b03"
      },
      "execution_count": 10,
      "outputs": [
        {
          "output_type": "stream",
          "name": "stdout",
          "text": [
            "nilai x adalah5\n",
            "nilai y adalah5\n",
            "3125\n"
          ]
        }
      ]
    },
    {
      "cell_type": "markdown",
      "source": [
        "**4.Operator perbandingan di phyton**"
      ],
      "metadata": {
        "id": "pZlIemIwfKhr"
      }
    },
    {
      "cell_type": "code",
      "source": [
        "#output yang dicetak adalah True atau False\n",
        "\n",
        "p = 8\n",
        "q = 4\n",
        "\n",
        "#sama dengan\n",
        "a = p == 4\n",
        "b = q == 4\n",
        "print (a)\n",
        "print (b)\n",
        "\n",
        "#kurang dari\n",
        "a = p < 5\n",
        "b = q < 5\n",
        "print (a)\n",
        "print (b)\n",
        "\n",
        "#lebih besar\n",
        "a = p > 1\n",
        "b = q > 1\n",
        "print (a)\n",
        "print (b)"
      ],
      "metadata": {
        "colab": {
          "base_uri": "https://localhost:8080/"
        },
        "id": "m4STzBmPdK7_",
        "outputId": "ca949a20-b050-4594-bf43-c2e49cc86f33"
      },
      "execution_count": 15,
      "outputs": [
        {
          "output_type": "stream",
          "name": "stdout",
          "text": [
            "False\n",
            "True\n",
            "False\n",
            "True\n",
            "True\n",
            "True\n"
          ]
        }
      ]
    },
    {
      "cell_type": "markdown",
      "source": [
        "**5.Operator logika di phyton**"
      ],
      "metadata": {
        "id": "7789VVD4gGs0"
      }
    },
    {
      "cell_type": "code",
      "source": [
        "print (x>4 and y<=3)\n",
        "print(not(x>4 and y<=3))\n",
        "print(~(x>4 and y<=3))\n",
        "\n",
        "#output yang pertama akan menghasilkan false karena apabila terdapat salah satu pernyataan salah dalam suatu logika 'dan' maka hasil akan salah\n",
        "#output kedua  menghasilkan True karena merupakan suatu negasi dari output yang pertama, dimana jika False maka negasinya True"
      ],
      "metadata": {
        "colab": {
          "base_uri": "https://localhost:8080/"
        },
        "id": "IViu_qsOfgCv",
        "outputId": "342a136a-72d4-4165-fbca-159ac46d01d5"
      },
      "execution_count": 17,
      "outputs": [
        {
          "output_type": "stream",
          "name": "stdout",
          "text": [
            "False\n",
            "True\n",
            "-1\n"
          ]
        }
      ]
    },
    {
      "cell_type": "markdown",
      "source": [
        "**6.Operator if di phyton**"
      ],
      "metadata": {
        "id": "nAs7A5mWgV4h"
      }
    },
    {
      "cell_type": "code",
      "source": [
        "y = 1\n",
        "x = 10\n",
        "\n",
        "if x <= 10:\n",
        "    y = x**2\n",
        "    x = x + 1\n",
        "    print (y)\n",
        "    #jika sudah menggunakan if, maka yng tercetak adalah data yg terbaru\n",
        "    #jika y = x**2, maka output yang dihasilkan adalah y dengan variabel terdapat didalam  if tersebut\n",
        "\n",
        "    "
      ],
      "metadata": {
        "colab": {
          "base_uri": "https://localhost:8080/"
        },
        "id": "IyBjrVW8YlV6",
        "outputId": "b2927f22-9b29-48ba-c2a7-cae598187f87"
      },
      "execution_count": 11,
      "outputs": [
        {
          "output_type": "stream",
          "name": "stdout",
          "text": [
            "100\n"
          ]
        }
      ]
    },
    {
      "cell_type": "code",
      "source": [
        "y = 1\n",
        "x = 10\n",
        "\n",
        "if x <= 10:\n",
        "    y = x**2\n",
        "    x = x + 1\n",
        "    print(x)\n",
        "#sama halnya dengan percobaan diatas, jika suatu  x variabel memenuhi x dalam if, maka x tersebut dapat dideklarasikan\n",
        "#sehingga yang dihasilkan adalah x = x + 1"
      ],
      "metadata": {
        "colab": {
          "base_uri": "https://localhost:8080/"
        },
        "id": "OFInawZ_Z8Zd",
        "outputId": "00c3626a-0265-4a98-cd0c-9431e7f55c11"
      },
      "execution_count": 13,
      "outputs": [
        {
          "output_type": "stream",
          "name": "stdout",
          "text": [
            "11\n"
          ]
        }
      ]
    },
    {
      "cell_type": "code",
      "source": [
        "nilai=float(input(\"ATMAJA nilai anda adalah : \"))\n",
        "if nilai >= 90:\n",
        "    print (\"sangat bagus, pertahankan\")\n",
        "if nilai >=60 and nilai <90:\n",
        "    print (\"bagus, belajar lebih giat lagi yaa\")\n",
        "if nilai >=30 and nilai <60:\n",
        "    print (\"tetap seman g rajin rajin belajar\")\n",
        "#akan menghasilkan suatu  kode paramenter\n",
        "# yang dimana suatu output yang dihasilkan akan sesuai dengan nilai yang kita input dalam paramenter tersebut"
      ],
      "metadata": {
        "colab": {
          "base_uri": "https://localhost:8080/"
        },
        "id": "CCbj6KSSaod2",
        "outputId": "a3b776c6-fffa-4665-b76f-642bd62f0dbf"
      },
      "execution_count": 14,
      "outputs": [
        {
          "output_type": "stream",
          "name": "stdout",
          "text": [
            "ATMAJA nilai anda adalah : 85\n",
            "bagus, belajar lebih giat lagi yaa\n"
          ]
        }
      ]
    },
    {
      "cell_type": "code",
      "source": [],
      "metadata": {
        "id": "MdMCpsY6b64-"
      },
      "execution_count": null,
      "outputs": []
    }
  ]
}