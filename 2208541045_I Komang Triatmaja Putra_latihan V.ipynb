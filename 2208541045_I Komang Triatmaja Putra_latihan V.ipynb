{
  "nbformat": 4,
  "nbformat_minor": 0,
  "metadata": {
    "colab": {
      "provenance": []
    },
    "kernelspec": {
      "name": "python3",
      "display_name": "Python 3"
    },
    "language_info": {
      "name": "python"
    }
  },
  "cells": [
    {
      "cell_type": "markdown",
      "source": [
        "**5.16 List 2 Dimensi**\n"
      ],
      "metadata": {
        "id": "IYilWIleqKzm"
      }
    },
    {
      "cell_type": "code",
      "source": [
        "#percoban dalam list 2 dimensi\n",
        "matrik = [\n",
        "    [1,2,3,4],\n",
        "    [5,6,7,8],\n",
        "    [9,10,11,12],\n",
        "    [13,14,15,16]\n",
        "]\n",
        "print(matrik)\n",
        "#percobaan penarikan nilai matrik"
      ],
      "metadata": {
        "colab": {
          "base_uri": "https://localhost:8080/"
        },
        "id": "57RuIKe9nvF4",
        "outputId": "c08191e1-26ea-4291-9f05-c64bf59cad50"
      },
      "execution_count": 1,
      "outputs": [
        {
          "output_type": "stream",
          "name": "stdout",
          "text": [
            "[[1, 2, 3, 4], [5, 6, 7, 8], [9, 10, 11, 12], [13, 14, 15, 16]]\n"
          ]
        }
      ]
    },
    {
      "cell_type": "code",
      "source": [
        "matrik[1]\n",
        "#percobaan penarikan nilai matrik pada baris pertama"
      ],
      "metadata": {
        "colab": {
          "base_uri": "https://localhost:8080/"
        },
        "id": "UMfMXnQaqqx9",
        "outputId": "a2d23b17-8ee9-44e5-9f54-2c70655215f6"
      },
      "execution_count": 2,
      "outputs": [
        {
          "output_type": "execute_result",
          "data": {
            "text/plain": [
              "[5, 6, 7, 8]"
            ]
          },
          "metadata": {},
          "execution_count": 2
        }
      ]
    },
    {
      "cell_type": "code",
      "source": [
        "matrik[1][2]"
      ],
      "metadata": {
        "colab": {
          "base_uri": "https://localhost:8080/"
        },
        "id": "oPxkfE8gr3ON",
        "outputId": "152b9d73-537a-4ae6-992e-e9321ca55bed"
      },
      "execution_count": 3,
      "outputs": [
        {
          "output_type": "execute_result",
          "data": {
            "text/plain": [
              "7"
            ]
          },
          "metadata": {},
          "execution_count": 3
        }
      ]
    },
    {
      "cell_type": "code",
      "source": [
        "for baris in matrik:\n",
        "  print(baris)\n",
        "  for kolom in baris:\n",
        "      print(kolom)"
      ],
      "metadata": {
        "colab": {
          "base_uri": "https://localhost:8080/"
        },
        "id": "9M1ME_jCsfEU",
        "outputId": "bd0f59ca-049d-4bd9-a315-2c2e7bea5bbc"
      },
      "execution_count": 4,
      "outputs": [
        {
          "output_type": "stream",
          "name": "stdout",
          "text": [
            "[1, 2, 3, 4]\n",
            "1\n",
            "2\n",
            "3\n",
            "4\n",
            "[5, 6, 7, 8]\n",
            "5\n",
            "6\n",
            "7\n",
            "8\n",
            "[9, 10, 11, 12]\n",
            "9\n",
            "10\n",
            "11\n",
            "12\n",
            "[13, 14, 15, 16]\n",
            "13\n",
            "14\n",
            "15\n",
            "16\n"
          ]
        }
      ]
    },
    {
      "cell_type": "code",
      "source": [],
      "metadata": {
        "id": "A1BrAFj4tgUE"
      },
      "execution_count": 4,
      "outputs": []
    },
    {
      "cell_type": "markdown",
      "source": [
        "**5.17 *Tuples***\n"
      ],
      "metadata": {
        "id": "xmTBhGUEulVz"
      }
    },
    {
      "cell_type": "code",
      "source": [
        "#percobaan dengan metode tuples\n",
        "angka = (0,1,1,3,4,5)\n",
        "#percobaan mencetak data yang dimulai dari data ke nol \n",
        "print(angka[0])\n",
        "#mencetak data yg dimulai dari nol sampai ketiga\n",
        "print(angka[0:3])\n",
        "#mencetak isi dalam data angka dari yang ke nol sampai ketiga\n",
        "for isi in angka[0:3]:\n",
        "  print(isi)\n"
      ],
      "metadata": {
        "colab": {
          "base_uri": "https://localhost:8080/"
        },
        "id": "fmwlI8vPu6Yz",
        "outputId": "2b058a8e-9eb4-493d-c4bf-67e65dfdd8d6"
      },
      "execution_count": 5,
      "outputs": [
        {
          "output_type": "stream",
          "name": "stdout",
          "text": [
            "0\n",
            "(0, 1, 1)\n",
            "0\n",
            "1\n",
            "1\n"
          ]
        }
      ]
    },
    {
      "cell_type": "code",
      "source": [
        "angka[0] = 10\n",
        "#percobaan tersebut eror  karna metode tuples tidak dapat diganti"
      ],
      "metadata": {
        "colab": {
          "base_uri": "https://localhost:8080/",
          "height": 183
        },
        "id": "3txAjFuQwxlb",
        "outputId": "0abcddfa-67f3-4068-e70c-2ab762ae444a"
      },
      "execution_count": 7,
      "outputs": [
        {
          "output_type": "error",
          "ename": "TypeError",
          "evalue": "ignored",
          "traceback": [
            "\u001b[0;31m---------------------------------------------------------------------------\u001b[0m",
            "\u001b[0;31mTypeError\u001b[0m                                 Traceback (most recent call last)",
            "\u001b[0;32m<ipython-input-7-8fd71044b877>\u001b[0m in \u001b[0;36m<cell line: 1>\u001b[0;34m()\u001b[0m\n\u001b[0;32m----> 1\u001b[0;31m \u001b[0mangka\u001b[0m\u001b[0;34m[\u001b[0m\u001b[0;36m0\u001b[0m\u001b[0;34m]\u001b[0m \u001b[0;34m=\u001b[0m \u001b[0;36m10\u001b[0m\u001b[0;34m\u001b[0m\u001b[0;34m\u001b[0m\u001b[0m\n\u001b[0m\u001b[1;32m      2\u001b[0m \u001b[0;31m#percobaan tersebut eror  karna metode tuples tidak dapat diganti\u001b[0m\u001b[0;34m\u001b[0m\u001b[0;34m\u001b[0m\u001b[0m\n",
            "\u001b[0;31mTypeError\u001b[0m: 'tuple' object does not support item assignment"
          ]
        }
      ]
    },
    {
      "cell_type": "markdown",
      "source": [
        "######**5.18 *Dictionaries***"
      ],
      "metadata": {
        "id": "L_rCDOir0O_h"
      }
    },
    {
      "cell_type": "code",
      "source": [
        "Data_orang = {\n",
        "    \"nama\" : \"ketut gacoan\",\n",
        "    \"umur\" : 17,\n",
        "    \"apakah singel\" : False\n",
        "}\n",
        "#percobaan metode Dictionaries agar dapat mencetak suatu data orang "
      ],
      "metadata": {
        "id": "d7N0ffO6ysdC"
      },
      "execution_count": 8,
      "outputs": []
    },
    {
      "cell_type": "code",
      "source": [
        "print(Data_orang['nama'])"
      ],
      "metadata": {
        "colab": {
          "base_uri": "https://localhost:8080/"
        },
        "id": "GwdOxcP-1J0h",
        "outputId": "2b1dd527-df74-4352-c7e0-74a96cbff722"
      },
      "execution_count": 9,
      "outputs": [
        {
          "output_type": "stream",
          "name": "stdout",
          "text": [
            "ketut gacoan\n"
          ]
        }
      ]
    },
    {
      "cell_type": "markdown",
      "source": [
        "######**5.19 Fungsi dalam python**"
      ],
      "metadata": {
        "id": "uV_EI6TH13WX"
      }
    },
    {
      "cell_type": "code",
      "source": [
        "def full_nama(first_name,last_name):\n",
        "  print(f\"nama lengkapnya adalah {first_name} {last_name}\")\n",
        "  #percobaan metode fungsi dalam python\n"
      ],
      "metadata": {
        "id": "LH_m2rfy2AQ4"
      },
      "execution_count": 10,
      "outputs": []
    },
    {
      "cell_type": "code",
      "source": [
        "first_name = input(\"nama depannya adalah\"+\" \")\n",
        "last_name = input(\"nama belakangnya adalah\"+\" \")\n",
        "nickname = input(\"biasa dipanggil\"+\" \")\n",
        "full_nama(first_name,last_name)\n",
        "#percobaan metode fungsi dalam python, dengan mencetak nama lengkap atau full name\n",
        "#disini saya mencoba menginput first name, last name, untyk mencetak ful name, dan nick name untuk mencetak nama panggilan\n"
      ],
      "metadata": {
        "colab": {
          "base_uri": "https://localhost:8080/"
        },
        "id": "oOBsug5w41R_",
        "outputId": "e7af13ed-3eae-453e-cd47-d79c33fd28d0"
      },
      "execution_count": 11,
      "outputs": [
        {
          "output_type": "stream",
          "name": "stdout",
          "text": [
            "nama depannya adalah I Komang\n",
            "nama belakangnya adalah Triatmaja Putra\n",
            "biasa dipanggil Devano\n",
            "nama lengkapnya adalah I Komang Triatmaja Putra\n"
          ]
        }
      ]
    },
    {
      "cell_type": "markdown",
      "source": [
        "**5.20 *numpy***"
      ],
      "metadata": {
        "id": "XH6RoyA7E7xq"
      }
    },
    {
      "cell_type": "code",
      "source": [
        "import numpy as np \n",
        "#memanggil library numpy"
      ],
      "metadata": {
        "id": "WA_wD2po-0wV"
      },
      "execution_count": 2,
      "outputs": []
    },
    {
      "cell_type": "markdown",
      "source": [
        "**5.20.1** **Perintah Dasar pada Numpy**"
      ],
      "metadata": {
        "id": "Fg-p8qyud8Su"
      }
    },
    {
      "cell_type": "code",
      "source": [
        "a = np.array([7,22,24,26])\n",
        "print(\"data a yaitu: \")\n",
        "print(a)\n",
        "print('\\n')\n",
        "#numpy akan menjadikan array sebagai matriks \n",
        "#data dalam '[ ]' akan menjadi baris \n",
        "\n",
        "b = np.array([[1,2,3],[4,5,6],[7,8,9]])\n",
        "print(\"data b yaitu: \")\n",
        "print(b)\n",
        "print('\\n')\n",
        "#numpy akan menjadikan array sebagai matriks \n",
        "#data dalam '[[ ]]' akan menjadi kolom\n",
        "\n",
        "c = np.array([[[1,2,3], [3,4,5]],\n",
        "             [[6,7,8], [9,10,11]],\n",
        "             [[12,13,14], [15,16,17]]])\n",
        "print(\"data c yaitu: \")\n",
        "print(c)\n",
        "print('\\n')\n",
        "#numpy akan menjadikan array sebagai matriks \n",
        "#data dalam '[[[ ]]]' akan menjadi kolom dan setiap '[[ ]]' akan berisi spasi\n",
        "\n",
        "print(\"banyak kolom pada data c dan\")\n",
        "c.ndim\n",
        "#ndim adalah untuk menampilkan banyaknya baris dalam suatu data \n",
        "print(\"banyak baris pada data b adalah\")\n",
        "b.shape\n",
        "#shape adalah untuk menampilkan banyaknya kolom dalam suatu data \n",
        "#jika kita memanggil dengan cara ini maka hasil yang keluar akan menjadi satu \n",
        "#karena out dalam satu comment hanya bisa satu out\n",
        "#jadi hasil yang akan ditampilkan adalah (3,3)\n",
        "#kolom pada data c adalah 3 dan baris pada data b adalah 3"
      ],
      "metadata": {
        "colab": {
          "base_uri": "https://localhost:8080/"
        },
        "id": "NS_IenI3b1In",
        "outputId": "a9956ba8-1118-4bff-a95d-22d6cc3a6636"
      },
      "execution_count": 3,
      "outputs": [
        {
          "output_type": "stream",
          "name": "stdout",
          "text": [
            "data a yaitu: \n",
            "[ 7 22 24 26]\n",
            "\n",
            "\n",
            "data b yaitu: \n",
            "[[1 2 3]\n",
            " [4 5 6]\n",
            " [7 8 9]]\n",
            "\n",
            "\n",
            "data c yaitu: \n",
            "[[[ 1  2  3]\n",
            "  [ 3  4  5]]\n",
            "\n",
            " [[ 6  7  8]\n",
            "  [ 9 10 11]]\n",
            "\n",
            " [[12 13 14]\n",
            "  [15 16 17]]]\n",
            "\n",
            "\n",
            "banyak kolom pada data c dan\n",
            "banyak baris pada data b adalah\n"
          ]
        },
        {
          "output_type": "execute_result",
          "data": {
            "text/plain": [
              "(3, 3)"
            ]
          },
          "metadata": {},
          "execution_count": 3
        }
      ]
    },
    {
      "cell_type": "markdown",
      "source": [
        "**5.20.2 memanggil Anggota, Kolom, dan Baris dengan Numpy**"
      ],
      "metadata": {
        "id": "GRL8WFJqebWQ"
      }
    },
    {
      "cell_type": "code",
      "source": [
        "b = np.array([[1,2,3],[4,5,6],[7,8,9]])\n",
        "print(b)\n",
        "print('\\n')\n",
        "#data tersebut diatas  akan terlihat pada hasil menjadi  suatu kolom \n",
        "\n",
        "#b[baris data, kolom data]\n",
        "#semuanya dihitung mulai dari 0 \n",
        "b[0,2]\n",
        "#berarti memanggil baris pertama kolom ke tiga \n",
        "#dan pada data terbetuk angka yang menempati baris pertama kolom ke tiga yakni angka 3 "
      ],
      "metadata": {
        "colab": {
          "base_uri": "https://localhost:8080/"
        },
        "id": "n38RMheTd3zW",
        "outputId": "feea71aa-9fdd-44ad-f2bf-9b019cb464e5"
      },
      "execution_count": 4,
      "outputs": [
        {
          "output_type": "stream",
          "name": "stdout",
          "text": [
            "[[1 2 3]\n",
            " [4 5 6]\n",
            " [7 8 9]]\n",
            "\n",
            "\n"
          ]
        },
        {
          "output_type": "execute_result",
          "data": {
            "text/plain": [
              "3"
            ]
          },
          "metadata": {},
          "execution_count": 4
        }
      ]
    },
    {
      "cell_type": "code",
      "source": [
        "b[0,0] = 99\n",
        "#ini akan mengubah data b baris pertama kolom pertama dari angka 1 menjadi 99\n",
        "print(b)"
      ],
      "metadata": {
        "colab": {
          "base_uri": "https://localhost:8080/"
        },
        "id": "LjaHW74YfQ5v",
        "outputId": "55cac0ee-0f6d-4cc7-c1fb-c204509a602e"
      },
      "execution_count": 5,
      "outputs": [
        {
          "output_type": "stream",
          "name": "stdout",
          "text": [
            "[[99  2  3]\n",
            " [ 4  5  6]\n",
            " [ 7  8  9]]\n"
          ]
        }
      ]
    },
    {
      "cell_type": "code",
      "source": [
        "b[1,:]\n",
        "#memanggil semua baris kedua"
      ],
      "metadata": {
        "colab": {
          "base_uri": "https://localhost:8080/"
        },
        "id": "Vshsv8_gfY57",
        "outputId": "7012bb32-9eed-427f-d826-980fe94873cf"
      },
      "execution_count": 6,
      "outputs": [
        {
          "output_type": "execute_result",
          "data": {
            "text/plain": [
              "array([4, 5, 6])"
            ]
          },
          "metadata": {},
          "execution_count": 6
        }
      ]
    },
    {
      "cell_type": "markdown",
      "source": [
        "**5.20.3 matrix pada numpy**"
      ],
      "metadata": {
        "id": "pr6lN-Ube_PL"
      }
    },
    {
      "cell_type": "code",
      "source": [
        "np.zeros((3,2))\n",
        "#ones berarti membuat semua entri pada matriks tersebut menjadi angka 0\n",
        "#membuat matriks ordo 3x2 dengan entri 0"
      ],
      "metadata": {
        "colab": {
          "base_uri": "https://localhost:8080/"
        },
        "id": "w-mv2bXpe6hf",
        "outputId": "b2d27526-0a02-49e7-a835-a1e34c67cd07"
      },
      "execution_count": 7,
      "outputs": [
        {
          "output_type": "execute_result",
          "data": {
            "text/plain": [
              "array([[0., 0.],\n",
              "       [0., 0.],\n",
              "       [0., 0.]])"
            ]
          },
          "metadata": {},
          "execution_count": 7
        }
      ]
    },
    {
      "cell_type": "code",
      "source": [
        "np.full((3,2),8)\n",
        "#membentuk array dengan satu bentuk entri pada seluruh data \n",
        "#pada percobaan ini menggunakan angka 8"
      ],
      "metadata": {
        "colab": {
          "base_uri": "https://localhost:8080/"
        },
        "id": "0YWExn8CfmhX",
        "outputId": "aa8e93ae-9a6a-4d47-9000-e38e60e9c2a3"
      },
      "execution_count": 8,
      "outputs": [
        {
          "output_type": "execute_result",
          "data": {
            "text/plain": [
              "array([[8, 8],\n",
              "       [8, 8],\n",
              "       [8, 8]])"
            ]
          },
          "metadata": {},
          "execution_count": 8
        }
      ]
    },
    {
      "cell_type": "markdown",
      "source": [
        "**5.20.4 Copy pada Numpy**"
      ],
      "metadata": {
        "id": "q8tBhOpof162"
      }
    },
    {
      "cell_type": "code",
      "source": [
        "a = np.array([7,22,24,26])\n",
        "print(\"data a\")\n",
        "print(a)\n",
        "print('\\n')\n",
        "\n",
        "b = a.copy()\n",
        "print(\"coppy\")\n",
        "print(b)\n",
        "print('\\n')\n",
        "#copy data menggunakan fungsi copy\n",
        "#a merupakan data aslinya dan b adalah copy-an \n",
        "\n",
        "b[0] = 10\n",
        "print(\"diubah\")\n",
        "print(b)\n",
        "print('\\n')\n",
        "#ubah data b yang merupakan copy-an \n",
        "#angka pertama diubah menjadi angka 10\n",
        "#jadi data b hasilnya akan [10 22 24 26]\n",
        "\n",
        "print(\"data a\")\n",
        "print(a)\n",
        "#data a akan tetap sama seperti awal tidak berubah sama sekali \n",
        "#karena yang diubah adalah copyan nya yaitu data b"
      ],
      "metadata": {
        "colab": {
          "base_uri": "https://localhost:8080/"
        },
        "id": "A-CDjdWYfsNa",
        "outputId": "a6c52d9d-cbfe-4204-e646-e178a5e642d6"
      },
      "execution_count": 9,
      "outputs": [
        {
          "output_type": "stream",
          "name": "stdout",
          "text": [
            "data a\n",
            "[ 7 22 24 26]\n",
            "\n",
            "\n",
            "coppy\n",
            "[ 7 22 24 26]\n",
            "\n",
            "\n",
            "diubah\n",
            "[10 22 24 26]\n",
            "\n",
            "\n",
            "data a\n",
            "[ 7 22 24 26]\n"
          ]
        }
      ]
    },
    {
      "cell_type": "markdown",
      "source": [
        "**5.20.5 Operasi Matematika pada Numpy**"
      ],
      "metadata": {
        "id": "Wn-HBHz-gG2w"
      }
    },
    {
      "cell_type": "code",
      "source": [
        "a= np.array([1,2,3,4])\n",
        "print(a)\n",
        "b = np.array([5,10,15,20])\n",
        "print(b)\n",
        "#masukkan dulu data yang  di operasikan "
      ],
      "metadata": {
        "colab": {
          "base_uri": "https://localhost:8080/"
        },
        "id": "1goO-2xugCiI",
        "outputId": "58fba20e-7d10-4230-fb7e-9d55de45107b"
      },
      "execution_count": 10,
      "outputs": [
        {
          "output_type": "stream",
          "name": "stdout",
          "text": [
            "[1 2 3 4]\n",
            "[ 5 10 15 20]\n"
          ]
        }
      ]
    },
    {
      "cell_type": "code",
      "source": [
        "#tanda + merupakan suatu  operasi penjumlahan\n",
        "a+b\n"
      ],
      "metadata": {
        "colab": {
          "base_uri": "https://localhost:8080/"
        },
        "id": "57LDjUVhgS4m",
        "outputId": "aef7d4b2-fbfe-4281-83c2-426ea7164bb3"
      },
      "execution_count": 13,
      "outputs": [
        {
          "output_type": "execute_result",
          "data": {
            "text/plain": [
              "array([ 6, 12, 18, 24])"
            ]
          },
          "metadata": {},
          "execution_count": 13
        }
      ]
    },
    {
      "cell_type": "code",
      "source": [
        "#tanda - adalah operasi pengurangan \n",
        "b-b"
      ],
      "metadata": {
        "colab": {
          "base_uri": "https://localhost:8080/"
        },
        "id": "cmIx-g5vgao1",
        "outputId": "3c1bd2d5-4387-4682-9776-b965e501b741"
      },
      "execution_count": 14,
      "outputs": [
        {
          "output_type": "execute_result",
          "data": {
            "text/plain": [
              "array([0, 0, 0, 0])"
            ]
          },
          "metadata": {},
          "execution_count": 14
        }
      ]
    },
    {
      "cell_type": "code",
      "source": [
        "#tanda ** adalah operasi pangkat \n",
        "a**5"
      ],
      "metadata": {
        "colab": {
          "base_uri": "https://localhost:8080/"
        },
        "id": "S_DwuPLcg3va",
        "outputId": "e1685a07-a526-4a08-dc8b-84517d75d889"
      },
      "execution_count": 15,
      "outputs": [
        {
          "output_type": "execute_result",
          "data": {
            "text/plain": [
              "array([   1,   32,  243, 1024])"
            ]
          },
          "metadata": {},
          "execution_count": 15
        }
      ]
    },
    {
      "cell_type": "code",
      "source": [
        "#tanda / adalah operasi pembagian \n",
        "b/a"
      ],
      "metadata": {
        "colab": {
          "base_uri": "https://localhost:8080/"
        },
        "id": "Q4wfS0CMg8gU",
        "outputId": "7bf87cf5-f6ff-442b-a5da-7e6bd3405c2a"
      },
      "execution_count": 16,
      "outputs": [
        {
          "output_type": "execute_result",
          "data": {
            "text/plain": [
              "array([5., 5., 5., 5.])"
            ]
          },
          "metadata": {},
          "execution_count": 16
        }
      ]
    },
    {
      "cell_type": "markdown",
      "source": [
        "**5.20.6 Perkalian Matrik pada Numpy**"
      ],
      "metadata": {
        "id": "arPHhOaghIE3"
      }
    },
    {
      "cell_type": "code",
      "source": [
        "import numpy as np\n",
        "p = np.array([[1,2,3,4],[5,6,7,8]])\n",
        "print(\"matriks p\")\n",
        "print(p)\n",
        "print('\\n')\n",
        "\n",
        "q = np.array([[7,22,24,26],[2,4,6,8]])\n",
        "print(\"matriks q\")\n",
        "print(q)\n",
        "print('\\n')\n",
        "\n",
        "r = p*q\n",
        "print(\"perkalian masing masing entri p dan q\")\n",
        "print (r)\n",
        "print('\\n')\n",
        "#tanda * akan mengalikan masing masing entri\n",
        "#r= data p dikali data q \n",
        "\n",
        "s = ([[1,2],[3,4],[5,6],[7,8]])\n",
        "t = np.matmul(p,s)\n",
        "print(\"perkalian matriks p dan s\")\n",
        "print(t)\n",
        "#matmul berfungsi untuk mengalikan dua matriks \n",
        "#pada t di minta matriks pxs "
      ],
      "metadata": {
        "colab": {
          "base_uri": "https://localhost:8080/"
        },
        "id": "jw2FfH8MhBx9",
        "outputId": "94c444c4-af06-440f-e4da-641e8417e370"
      },
      "execution_count": 17,
      "outputs": [
        {
          "output_type": "stream",
          "name": "stdout",
          "text": [
            "matriks p\n",
            "[[1 2 3 4]\n",
            " [5 6 7 8]]\n",
            "\n",
            "\n",
            "matriks q\n",
            "[[ 7 22 24 26]\n",
            " [ 2  4  6  8]]\n",
            "\n",
            "\n",
            "perkalian masing masing entri p dan q\n",
            "[[  7  44  72 104]\n",
            " [ 10  24  42  64]]\n",
            "\n",
            "\n",
            "perkalian matriks p dan s\n",
            "[[ 50  60]\n",
            " [114 140]]\n"
          ]
        }
      ]
    },
    {
      "cell_type": "markdown",
      "source": [
        "**5.20.7 min, max dan sum pada Numpy**"
      ],
      "metadata": {
        "id": "ghKlSmkPhQ6W"
      }
    },
    {
      "cell_type": "code",
      "source": [
        "import numpy as np\n",
        "c = np.array([[8,7,6], \n",
        "              [5,4,3],\n",
        "              [2,1,1] ])\n",
        "print(\"array data c\")\n",
        "print(c)\n",
        "print('\\n')\n",
        "\n",
        "#\"min\" digunakan untuk mencari data minimum \n",
        "h = np.min(c)\n",
        "print(\"nilai minimum\")\n",
        "print(h)\n",
        "print('\\n')\n",
        "\n",
        "#\"min axis=0\" digunakan untuk mencari data minimum pada baris data \n",
        "#axis=0 menunjukan baris\n",
        "z = np.min(c, axis=0)\n",
        "print(\"nilai minimum baris\")\n",
        "print(z)\n",
        "print('\\n')\n",
        "\n",
        "#\"min axis=1\" digunakan untuk mencari data minimum pada kolom data \n",
        "#axis=1 menunjukan kolom\n",
        "f = np.min(c, axis=1)\n",
        "print(\"nilai minimum kolom\")\n",
        "print(f)\n",
        "print('\\n')\n",
        "\n",
        "#\"max\" digunakan untuk mencari data maksimum\n",
        "g = np.max(c)\n",
        "print(\"nilai maksimum\")\n",
        "print(g)\n",
        "print('\\n')\n",
        "#\"max axis=0\" digunakan untuk mencari data maksimum pada baris data \n",
        "#axis=0 menunjukan baris\n",
        "i = np.max(c, axis=0)\n",
        "print(\"nilai maksimum baris\")\n",
        "print(i)\n",
        "print('\\n')\n",
        "\n",
        "#\"max axis=1\" digunakan untuk mencari data maksimum pada kolom data \n",
        "#axis=1 menunjukan kolom\n",
        "j = np.max(c, axis=1)\n",
        "print(\"nilai maksimum kolom\")\n",
        "print(j)\n",
        "print('\\n')\n",
        "\n",
        "#\"sum\" digunakan untuk menghitung jumlah seluruh data\n",
        "k = np.sum(c)\n",
        "print(\"jumlah seluruh data\")\n",
        "print(k)\n",
        "print('\\n')\n",
        "\n",
        "#\"sum axis=0\" digunakan untuk menghitung jumlah data pada baris \n",
        "#axis=0 menunjukan baris\n",
        "l = np.sum(c, axis=0)\n",
        "print(\"jumlah data baris\")\n",
        "print(l)\n",
        "print('\\n')\n",
        "\n",
        "#\"sum axis=1\" digunakan untuk menghitung jumlah data pada kolom  \n",
        "#axis=1 menunjukan kolom\n",
        "m = np.sum(c, axis=1)\n",
        "print(\"jumlah data kolom\")\n",
        "print(m)"
      ],
      "metadata": {
        "colab": {
          "base_uri": "https://localhost:8080/"
        },
        "id": "9ycTo1q5hNSj",
        "outputId": "67f87611-e796-436a-d481-af13a1d02494"
      },
      "execution_count": 19,
      "outputs": [
        {
          "output_type": "stream",
          "name": "stdout",
          "text": [
            "array data c\n",
            "[[8 7 6]\n",
            " [5 4 3]\n",
            " [2 1 1]]\n",
            "\n",
            "\n",
            "nilai minimum\n",
            "1\n",
            "\n",
            "\n",
            "nilai minimum baris\n",
            "[2 1 1]\n",
            "\n",
            "\n",
            "nilai minimum kolom\n",
            "[6 3 1]\n",
            "\n",
            "\n",
            "nilai maksimum\n",
            "8\n",
            "\n",
            "\n",
            "nilai maksimum baris\n",
            "[8 7 6]\n",
            "\n",
            "\n",
            "nilai maksimum kolom\n",
            "[8 5 2]\n",
            "\n",
            "\n",
            "jumlah seluruh data\n",
            "37\n",
            "\n",
            "\n",
            "jumlah data baris\n",
            "[15 12 10]\n",
            "\n",
            "\n",
            "jumlah data kolom\n",
            "[21 12  4]\n"
          ]
        }
      ]
    },
    {
      "cell_type": "code",
      "source": [],
      "metadata": {
        "id": "KTQgXsxNhcfJ"
      },
      "execution_count": null,
      "outputs": []
    }
  ]
}